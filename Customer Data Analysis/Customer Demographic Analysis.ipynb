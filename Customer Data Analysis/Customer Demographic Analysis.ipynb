{
 "cells": [
  {
   "cell_type": "code",
   "execution_count": 24,
   "metadata": {},
   "outputs": [],
   "source": [
    "#Get all packages needed\n",
    "import pandas as pd\n",
    "import numpy as np\n",
    "import datetime\n",
    "from matplotlib.ticker import FuncFormatter\n",
    "import matplotlib.pyplot as plt\n",
    "import warnings\n",
    "import math as mt\n",
    "warnings.filterwarnings(\"ignore\")\n",
    "\n"
   ]
  },
  {
   "cell_type": "code",
   "execution_count": 25,
   "metadata": {},
   "outputs": [
    {
     "data": {
      "text/html": [
       "<div>\n",
       "<style scoped>\n",
       "    .dataframe tbody tr th:only-of-type {\n",
       "        vertical-align: middle;\n",
       "    }\n",
       "\n",
       "    .dataframe tbody tr th {\n",
       "        vertical-align: top;\n",
       "    }\n",
       "\n",
       "    .dataframe thead th {\n",
       "        text-align: right;\n",
       "    }\n",
       "</style>\n",
       "<table border=\"1\" class=\"dataframe\">\n",
       "  <thead>\n",
       "    <tr style=\"text-align: right;\">\n",
       "      <th></th>\n",
       "      <th>customer_id</th>\n",
       "      <th>first_name</th>\n",
       "      <th>last_name</th>\n",
       "      <th>gender</th>\n",
       "      <th>past_3_years_bike_related_purchases</th>\n",
       "      <th>DOB</th>\n",
       "      <th>job_title</th>\n",
       "      <th>job_industry_category</th>\n",
       "      <th>wealth_segment</th>\n",
       "      <th>deceased_indicator</th>\n",
       "      <th>default</th>\n",
       "      <th>owns_car</th>\n",
       "      <th>tenure</th>\n",
       "    </tr>\n",
       "  </thead>\n",
       "  <tbody>\n",
       "    <tr>\n",
       "      <th>1</th>\n",
       "      <td>1</td>\n",
       "      <td>Laraine</td>\n",
       "      <td>Medendorp</td>\n",
       "      <td>F</td>\n",
       "      <td>93</td>\n",
       "      <td>1953-10-12 00:00:00</td>\n",
       "      <td>Executive Secretary</td>\n",
       "      <td>Health</td>\n",
       "      <td>Mass Customer</td>\n",
       "      <td>N</td>\n",
       "      <td>\"'</td>\n",
       "      <td>Yes</td>\n",
       "      <td>11.0</td>\n",
       "    </tr>\n",
       "    <tr>\n",
       "      <th>2</th>\n",
       "      <td>2</td>\n",
       "      <td>Eli</td>\n",
       "      <td>Bockman</td>\n",
       "      <td>Male</td>\n",
       "      <td>81</td>\n",
       "      <td>1980-12-16 00:00:00</td>\n",
       "      <td>Administrative Officer</td>\n",
       "      <td>Financial Services</td>\n",
       "      <td>Mass Customer</td>\n",
       "      <td>N</td>\n",
       "      <td>&lt;script&gt;alert('hi')&lt;/script&gt;</td>\n",
       "      <td>Yes</td>\n",
       "      <td>16.0</td>\n",
       "    </tr>\n",
       "    <tr>\n",
       "      <th>3</th>\n",
       "      <td>3</td>\n",
       "      <td>Arlin</td>\n",
       "      <td>Dearle</td>\n",
       "      <td>Male</td>\n",
       "      <td>61</td>\n",
       "      <td>1954-01-20 00:00:00</td>\n",
       "      <td>Recruiting Manager</td>\n",
       "      <td>Property</td>\n",
       "      <td>Mass Customer</td>\n",
       "      <td>N</td>\n",
       "      <td>2018-02-01 00:00:00</td>\n",
       "      <td>Yes</td>\n",
       "      <td>15.0</td>\n",
       "    </tr>\n",
       "    <tr>\n",
       "      <th>4</th>\n",
       "      <td>4</td>\n",
       "      <td>Talbot</td>\n",
       "      <td>NaN</td>\n",
       "      <td>Male</td>\n",
       "      <td>33</td>\n",
       "      <td>1961-10-03 00:00:00</td>\n",
       "      <td>NaN</td>\n",
       "      <td>IT</td>\n",
       "      <td>Mass Customer</td>\n",
       "      <td>N</td>\n",
       "      <td>() { _; } &gt;_[$($())] { touch /tmp/blns.shellsh...</td>\n",
       "      <td>No</td>\n",
       "      <td>7.0</td>\n",
       "    </tr>\n",
       "    <tr>\n",
       "      <th>5</th>\n",
       "      <td>5</td>\n",
       "      <td>Sheila-kathryn</td>\n",
       "      <td>Calton</td>\n",
       "      <td>Female</td>\n",
       "      <td>56</td>\n",
       "      <td>1977-05-13 00:00:00</td>\n",
       "      <td>Senior Editor</td>\n",
       "      <td>NaN</td>\n",
       "      <td>Affluent Customer</td>\n",
       "      <td>N</td>\n",
       "      <td>NIL</td>\n",
       "      <td>Yes</td>\n",
       "      <td>8.0</td>\n",
       "    </tr>\n",
       "  </tbody>\n",
       "</table>\n",
       "</div>"
      ],
      "text/plain": [
       "   customer_id      first_name  last_name  gender  \\\n",
       "1            1         Laraine  Medendorp       F   \n",
       "2            2             Eli    Bockman    Male   \n",
       "3            3           Arlin     Dearle    Male   \n",
       "4            4          Talbot        NaN    Male   \n",
       "5            5  Sheila-kathryn     Calton  Female   \n",
       "\n",
       "   past_3_years_bike_related_purchases                  DOB  \\\n",
       "1                                   93  1953-10-12 00:00:00   \n",
       "2                                   81  1980-12-16 00:00:00   \n",
       "3                                   61  1954-01-20 00:00:00   \n",
       "4                                   33  1961-10-03 00:00:00   \n",
       "5                                   56  1977-05-13 00:00:00   \n",
       "\n",
       "                job_title job_industry_category     wealth_segment  \\\n",
       "1     Executive Secretary                Health      Mass Customer   \n",
       "2  Administrative Officer    Financial Services      Mass Customer   \n",
       "3      Recruiting Manager              Property      Mass Customer   \n",
       "4                     NaN                    IT      Mass Customer   \n",
       "5           Senior Editor                   NaN  Affluent Customer   \n",
       "\n",
       "  deceased_indicator                                            default  \\\n",
       "1                  N                                                 \"'   \n",
       "2                  N                       <script>alert('hi')</script>   \n",
       "3                  N                                2018-02-01 00:00:00   \n",
       "4                  N  () { _; } >_[$($())] { touch /tmp/blns.shellsh...   \n",
       "5                  N                                                NIL   \n",
       "\n",
       "  owns_car  tenure  \n",
       "1      Yes    11.0  \n",
       "2      Yes    16.0  \n",
       "3      Yes    15.0  \n",
       "4       No     7.0  \n",
       "5      Yes     8.0  "
      ]
     },
     "execution_count": 25,
     "metadata": {},
     "output_type": "execute_result"
    }
   ],
   "source": [
    "d = pd.read_excel(r\"cds.xlsx\")\n",
    "d.index = np.arange( 1, len(d) + 1)\n",
    "d.head()"
   ]
  },
  {
   "cell_type": "code",
   "execution_count": 26,
   "metadata": {},
   "outputs": [
    {
     "name": "stdout",
     "output_type": "stream",
     "text": [
      "<class 'pandas.core.frame.DataFrame'>\n",
      "Int64Index: 4000 entries, 1 to 4000\n",
      "Data columns (total 13 columns):\n",
      " #   Column                               Non-Null Count  Dtype  \n",
      "---  ------                               --------------  -----  \n",
      " 0   customer_id                          4000 non-null   int64  \n",
      " 1   first_name                           4000 non-null   object \n",
      " 2   last_name                            3875 non-null   object \n",
      " 3   gender                               4000 non-null   object \n",
      " 4   past_3_years_bike_related_purchases  4000 non-null   int64  \n",
      " 5   DOB                                  3913 non-null   object \n",
      " 6   job_title                            3494 non-null   object \n",
      " 7   job_industry_category                3344 non-null   object \n",
      " 8   wealth_segment                       4000 non-null   object \n",
      " 9   deceased_indicator                   4000 non-null   object \n",
      " 10  default                              3698 non-null   object \n",
      " 11  owns_car                             4000 non-null   object \n",
      " 12  tenure                               3913 non-null   float64\n",
      "dtypes: float64(1), int64(2), object(10)\n",
      "memory usage: 437.5+ KB\n"
     ]
    }
   ],
   "source": [
    "d.info()"
   ]
  },
  {
   "cell_type": "code",
   "execution_count": 27,
   "metadata": {},
   "outputs": [],
   "source": [
    "# rename for easier analysis\n",
    "d=d.rename(columns={\"past_3_years_bike_related_purchases\":\"3y_bike_purchases\",\n",
    "                   \"deceased_indicator\":\"dec_indicator\",\n",
    "                   \"job_industry_category\":\"job_industry\",\n",
    "                   \"wealth_segment\":\"WS\"}, inplace = False)"
   ]
  },
  {
   "cell_type": "code",
   "execution_count": 28,
   "metadata": {},
   "outputs": [],
   "source": [
    "d=d.drop (['default'], 1, inplace=False)"
   ]
  },
  {
   "cell_type": "code",
   "execution_count": 29,
   "metadata": {},
   "outputs": [
    {
     "data": {
      "text/plain": [
       "Female    2037\n",
       "Male      1872\n",
       "U           88\n",
       "M            1\n",
       "F            1\n",
       "Femal        1\n",
       "Name: gender, dtype: int64"
      ]
     },
     "execution_count": 29,
     "metadata": {},
     "output_type": "execute_result"
    }
   ],
   "source": [
    "d['gender'].value_counts()"
   ]
  },
  {
   "cell_type": "code",
   "execution_count": 30,
   "metadata": {},
   "outputs": [],
   "source": [
    "d['gender']=d['gender'].replace(['F','Femal','M','U'], ['Female','Female','Male','Unspecified'])"
   ]
  },
  {
   "cell_type": "code",
   "execution_count": 31,
   "metadata": {},
   "outputs": [
    {
     "data": {
      "text/plain": [
       "Female         2039\n",
       "Male           1873\n",
       "Unspecified      88\n",
       "Name: gender, dtype: int64"
      ]
     },
     "execution_count": 31,
     "metadata": {},
     "output_type": "execute_result"
    }
   ],
   "source": [
    "d['gender'].value_counts()"
   ]
  },
  {
   "cell_type": "code",
   "execution_count": 32,
   "metadata": {},
   "outputs": [
    {
     "data": {
      "text/plain": [
       "array([   1,    2,    3, ..., 3998, 3999, 4000], dtype=int64)"
      ]
     },
     "execution_count": 32,
     "metadata": {},
     "output_type": "execute_result"
    }
   ],
   "source": [
    "d['customer_id'].unique()"
   ]
  },
  {
   "cell_type": "code",
   "execution_count": 33,
   "metadata": {},
   "outputs": [
    {
     "name": "stdout",
     "output_type": "stream",
     "text": [
      "[0, 0, 125, 0, 0, 87, 506, 656, 0, 0, 0, 87] 12\n"
     ]
    }
   ],
   "source": [
    "def checkna():\n",
    "    ret = []\n",
    "    temp = list(d) #list of array names\n",
    "    for each in temp:\n",
    "        ret.append(d[each].isna().sum())\n",
    "    return ret\n",
    "\n",
    "nanlist = checkna()\n",
    "print(nanlist, len(nanlist))\n",
    "# need to check columns\n",
    "check = []\n",
    "k     = -1\n",
    "for i in nanlist:\n",
    "    k += 1 #k=0\n",
    "    if i > 0:\n",
    "        check.append(k)\n"
   ]
  },
  {
   "cell_type": "code",
   "execution_count": 34,
   "metadata": {},
   "outputs": [],
   "source": [
    "#Checking Uniqueness        \n",
    "def check_unique():\n",
    "    temp = list(d) #list of column names\n",
    "    mydict = {} \n",
    "    for i in range(3, 13): #for columns with nan values\n",
    "        ct = 0\n",
    "        if nanlist[i] > 0: #if nan values are greater than 0\n",
    "            ct = len(d[temp[i]].unique()) - 1 #find number of unique values in each column\n",
    "        else:\n",
    "            ct = len(d[temp[i]].unique()) #if 0 nan values\n",
    "        mydict[temp[i]] = (ct, d[temp[i]].unique()) #for each column,create \n",
    "        #a dictionary of unique values\n",
    "    return mydict\n"
   ]
  },
  {
   "cell_type": "code",
   "execution_count": 35,
   "metadata": {},
   "outputs": [
    {
     "data": {
      "text/plain": [
       "Female         2039\n",
       "Male           1873\n",
       "Unspecified      88\n",
       "Name: gender, dtype: int64"
      ]
     },
     "execution_count": 35,
     "metadata": {},
     "output_type": "execute_result"
    }
   ],
   "source": [
    "d['gender'].value_counts()"
   ]
  },
  {
   "cell_type": "code",
   "execution_count": 36,
   "metadata": {},
   "outputs": [
    {
     "name": "stdout",
     "output_type": "stream",
     "text": [
      "[2039, 1873, 88]\n"
     ]
    }
   ],
   "source": [
    "#Analyze the Gender vs Bikes bought\n",
    "#array(['F', 'Male', 'Female', 'U', 'Femal', 'M'] from KPMG_VI.py\n",
    "gender = [0,0,0] #first is Female, second if Male, third is Unknown\n",
    "for each in d['gender']: #increment counter for each occurence of gender\n",
    "    if each[0] == \"F\":\n",
    "        gender[0] += 1\n",
    "    elif each[0] == \"M\":\n",
    "        gender[1] += 1\n",
    "    else:\n",
    "        gender[2] += 1\n",
    "\n",
    "print(gender)\n",
    "def f1(v, gen):\n",
    "    #'The two args are the value and gender'\n",
    "    return int(v)"
   ]
  },
  {
   "cell_type": "code",
   "execution_count": 37,
   "metadata": {},
   "outputs": [
    {
     "data": {
      "text/plain": [
       "([<matplotlib.axis.XTick at 0x1ccf88ca248>,\n",
       "  <matplotlib.axis.XTick at 0x1ccf88bf388>,\n",
       "  <matplotlib.axis.XTick at 0x1ccf88b06c8>,\n",
       "  <matplotlib.axis.XTick at 0x1ccf88bb808>,\n",
       "  <matplotlib.axis.XTick at 0x1ccf88b7cc8>,\n",
       "  <matplotlib.axis.XTick at 0x1ccf88c7e88>],\n",
       " <a list of 6 Text xticklabel objects>)"
      ]
     },
     "execution_count": 37,
     "metadata": {},
     "output_type": "execute_result"
    },
    {
     "data": {
      "image/png": "[encoded data removed]",
      "text/plain": [
       "<Figure size 432x288 with 1 Axes>"
      ]
     },
     "metadata": {
      "needs_background": "light"
     },
     "output_type": "display_data"
    }
   ],
   "source": [
    "bk = [0,0,0] #no. of bikes purchased by each gender\n",
    "bk[0] +=d['3y_bike_purchases'][d['gender'] == 'Female'].sum() + d['3y_bike_purchases'][d['gender'] == 'F'].sum()\n",
    "bk[1] +=d['3y_bike_purchases'][d['gender'] == 'Male'].sum() + d['3y_bike_purchases'][d['gender'] == 'M'].sum()\n",
    "bk[2] +=d['3y_bike_purchases'][d['gender'] == 'Unspecified'].sum()\n",
    "\n",
    "g1 = [gender[0], bk[0], gender[1], bk[1], gender[2], bk[2]]\n",
    "g2 = [gender[0]*100, bk[0], gender[1]*100, bk[1], gender[2]*100, bk[2]]#scale up gender by 10 for easier visualization\n",
    "formatter = FuncFormatter(f1)\n",
    "x = [0,1,2,3,4,5]\n",
    "fig, ax = plt.subplots()\n",
    "ax.set_ylabel('Number of people')\n",
    "ax.yaxis.set_major_formatter(formatter)\n",
    "plt.bar(x, g2, color = 'Maroon')\n",
    "for i in range(len(gender*2)):\n",
    "    plt.text(x = i-0.2, y = g2[i]+0.1, s = g1[i], size = 11)\n",
    "\n",
    "plt.xticks(x, ('Women', \"Women's Purchases\", 'Men', \"Men's Purchases\", 'Unknown', \"Unknown's Purchases\"), rotation=45)\n"
   ]
  },
  {
   "cell_type": "markdown",
   "metadata": {},
   "source": [
    "Calculating average number of bikes sold according to gender"
   ]
  },
  {
   "cell_type": "code",
   "execution_count": 38,
   "metadata": {},
   "outputs": [
    {
     "name": "stdout",
     "output_type": "stream",
     "text": [
      "0.503\n",
      "0.478\n",
      "0.019\n"
     ]
    }
   ],
   "source": [
    "avg  = [0,0,0]\n",
    "sm   = sum(bk) #total number of bikes sold\n",
    "for i in range(len(avg)):  \n",
    "    avg[i] += round(bk[i]/sm,3) \n",
    "    print(avg[i])"
   ]
  },
  {
   "cell_type": "code",
   "execution_count": 39,
   "metadata": {},
   "outputs": [
    {
     "data": {
      "text/plain": [
       "([<matplotlib.axis.XTick at 0x1ccf8906c08>,\n",
       "  <matplotlib.axis.XTick at 0x1ccf89062c8>,\n",
       "  <matplotlib.axis.XTick at 0x1ccf8907e48>],\n",
       " <a list of 3 Text xticklabel objects>)"
      ]
     },
     "execution_count": 39,
     "metadata": {},
     "output_type": "execute_result"
    },
    {
     "data": {
      "image/png": "[encoded data removed]",
      "text/plain": [
       "<Figure size 432x288 with 1 Axes>"
      ]
     },
     "metadata": {
      "needs_background": "light"
     },
     "output_type": "display_data"
    }
   ],
   "source": [
    "x1a = [0,1,2]\n",
    "fig1, ax1 = plt.subplots()\n",
    "ax1.set_ylabel('%age bikes bought by gender')\n",
    "plt.bar(x1a, avg, color = 'Maroon')\n",
    "for i in range(len(avg)):\n",
    "    plt.text(x = i-0.15, y = avg[i], s = avg[i], size = 11)\n",
    "\n",
    "plt.xticks(x1a, ('Female', 'Male', 'Unknown'), rotation=45)"
   ]
  },
  {
   "cell_type": "markdown",
   "metadata": {},
   "source": [
    "# %age bikes bought by age"
   ]
  },
  {
   "cell_type": "code",
   "execution_count": 40,
   "metadata": {},
   "outputs": [
    {
     "name": "stdout",
     "output_type": "stream",
     "text": [
      "1953\n"
     ]
    }
   ],
   "source": [
    "print(d[\"DOB\"][1].ctime().split(\" \")[4])\n",
    "d[\"Age\"] = 0\n",
    "len1 = len(d[\"DOB\"])\n",
    "k    = 0\n",
    "for i in range(1, len1):\n",
    "    #Split the date according to its format\n",
    "    if isinstance(d[\"DOB\"][i], datetime.date):\n",
    "        tl = len(d[\"DOB\"][i].ctime().split(\" \")) #how many parts does DOB contain\n",
    "        d[\"Age\"][i] += int(2020 - int(d[\"DOB\"][i].ctime().split(\" \")[tl-1]))\n",
    "    #type is string\n",
    "    elif isinstance(d[\"DOB\"][i], str):\n",
    "        tl = len(d[\"DOB\"][i].split(\"-\"))\n",
    "        d[\"Age\"][i] += int(2020 - int(d[\"DOB\"][i].split(\"-\")[tl-1])) \n"
   ]
  },
  {
   "cell_type": "code",
   "execution_count": 41,
   "metadata": {},
   "outputs": [
    {
     "name": "stdout",
     "output_type": "stream",
     "text": [
      "Sum of ages 169932\n",
      "[2039, 1872, 1]\n",
      "43.0\n",
      "34.0\n"
     ]
    }
   ],
   "source": [
    "#same index as above\n",
    "agerange = [0,0,0]\n",
    "j       = 1\n",
    "sage   = 0\n",
    "stdv    = []\n",
    "#Now we have 3 age ranges\n",
    "for each in d['gender']: #loop through the gender column\n",
    "    if each[0] == \"F\" and d['Age'][j] != 0: #non-zero age with female gender\n",
    "        sage   += d['Age'][j]\n",
    "        stdv.append((d['Age'][j]))\n",
    "        agerange[0] += 1\n",
    "    elif each[0] == \"M\" and d['Age'][j] != 0:\n",
    "        sage += d['Age'][j]\n",
    "        stdv.append((d['Age'][j]))\n",
    "        agerange[1] += 1\n",
    "    elif d['Age'][j] != 0: \n",
    "        sage += d['Age'][j]\n",
    "        stdv.append((d['Age'][j]))\n",
    "        agerange[2] += 1\n",
    "    j += 1    \n",
    "print(\"Sum of ages\", sage)\n",
    "print(agerange) # U gender has only 1 age so ignore it\n",
    "#mean age of Male and Female\n",
    "mean_val = round(sage/sum(agerange),0)\n",
    "print(mean_val)\n",
    "#Use Std Deviation to calculate age ranges\n",
    "#sqrt(1/(N-1) * SUM(x-xmean)^2)\n",
    "stdv_val = round(mt.sqrt(1/(sum(agerange)-1)*sum((stdv - (sage/sum(agerange)))**2)),0)\n",
    "print(stdv_val)"
   ]
  },
  {
   "cell_type": "code",
   "execution_count": 42,
   "metadata": {},
   "outputs": [
    {
     "name": "stdout",
     "output_type": "stream",
     "text": [
      "26.0 43.0 60.0\n"
     ]
    }
   ],
   "source": [
    "#Purchases with age ranges 43 - 34/2, 43, 43 + 34/2 \n",
    "age_dict = {}\n",
    "f1  = [];bf1 = [];f2  = [];bf2 = [];f3  = [];bf3 = []; f4  = [];bf4 = [];\n",
    "m1  = [];bm1 = [];m2  = [];bm2 = [];m3  = [];bm3 = [];m4  = [];bm4 = [];\n",
    "\n",
    "fq = mean_val - stdv_val/2 #26\n",
    "sq = mean_val   # 43\n",
    "tq = mean_val + stdv_val/2 #60\n",
    "print(fq, sq, tq)\n",
    "ind1 = 1\n",
    "for each in d['gender']:\n",
    "    temp = int(d['Age'][ind1])\n",
    "    bk1  = int(d['3y_bike_purchases'][ind1])\n",
    "    if each[0] == \"F\" and temp != 0:\n",
    "        if(temp <= fq):         #AGE LESS THAN 26\n",
    "            f1.append(temp) #25, 43, 60\n",
    "            bf1.append(bk1)\n",
    "        elif(fq < temp and temp <= sq):            # 26-43 \n",
    "            f2.append(temp)\n",
    "            bf2.append(bk1)\n",
    "        elif(sq < temp and temp <= tq):\n",
    "            f3.append(temp)\n",
    "            bf3.append(bk1)          #43-60\n",
    "        elif(tq < temp):                 #60+\n",
    "            f4.append(temp)\n",
    "            bf4.append(bk1)\n",
    "    elif each[0] == \"M\" and temp != 0:\n",
    "        if(temp <= fq):\n",
    "            m1.append(temp)\n",
    "            bm1.append(bk1)\n",
    "        elif(fq < temp and temp <= sq):\n",
    "            m2.append(temp)\n",
    "            bm2.append(bk1)\n",
    "        elif(sq < temp and temp <= tq):\n",
    "            m3.append(temp)\n",
    "            bm3.append(bk1)\n",
    "        elif(tq < temp):\n",
    "            m4.append(temp)\n",
    "            bm4.append(bk1)\n",
    "    ind1 += 1\n"
   ]
  },
  {
   "cell_type": "code",
   "execution_count": 51,
   "metadata": {},
   "outputs": [
    {
     "data": {
      "text/plain": [
       "<function matplotlib.pyplot.show(*args, **kw)>"
      ]
     },
     "execution_count": 51,
     "metadata": {},
     "output_type": "execute_result"
    },
    {
     "data": {
      "image/png": "[encoded data removed]",
      "text/plain": [
       "<Figure size 432x288 with 1 Axes>"
      ]
     },
     "metadata": {
      "needs_background": "light"
     },
     "output_type": "display_data"
    }
   ],
   "source": [
    "a=d.Age\n",
    "b=1000*(d['3y_bike_purchases'])\n",
    "plt.show\n",
    "plt.scatter(a, b)\n",
    "plt.xlim(1,89)\n",
    "plt.ylim(1,30000)\n",
    "plt.show"
   ]
  },
  {
   "cell_type": "code",
   "execution_count": 44,
   "metadata": {},
   "outputs": [
    {
     "name": "stdout",
     "output_type": "stream",
     "text": [
      "273 775 778 213\n",
      "259 747 653 213\n"
     ]
    }
   ],
   "source": [
    "ga = {\"Women1\":f1,    #age ranges\n",
    "       \"Women2\":f2,\n",
    "       \"Women3\":f3,\n",
    "       \"Women4\":f4,\n",
    "       \"Men1\":m1,\n",
    "       \"Men2\":m2,\n",
    "       \"Men3\":m3,\n",
    "       \"Men4\":m4,\n",
    "      }\n",
    "print(len(ga[\"Women1\"]), len(ga[\"Women2\"]), len(ga[\"Women3\"]), len(ga[\"Women4\"]))\n",
    "print(len(ga[\"Men1\"]), len(ga[\"Men2\"]), len(ga[\"Men3\"]), len(ga[\"Men4\"]))"
   ]
  },
  {
   "cell_type": "code",
   "execution_count": 45,
   "metadata": {},
   "outputs": [],
   "source": [
    "graph4 = [len(ga[\"Women1\"]), len(ga[\"Men1\"]), len(ga[\"Women2\"]), len(ga[\"Men2\"]), len(ga[\"Women3\"]), len(ga[\"Men3\"]), len(ga[\"Women4\"]), len(ga[\"Men4\"])]\n"
   ]
  },
  {
   "cell_type": "code",
   "execution_count": 49,
   "metadata": {},
   "outputs": [
    {
     "data": {
      "text/plain": [
       "([<matplotlib.axis.XTick at 0x1ccf9bebf88>,\n",
       "  <matplotlib.axis.XTick at 0x1ccf9beb5c8>,\n",
       "  <matplotlib.axis.XTick at 0x1ccf9beb188>,\n",
       "  <matplotlib.axis.XTick at 0x1ccf99c9c08>,\n",
       "  <matplotlib.axis.XTick at 0x1ccf99c90c8>,\n",
       "  <matplotlib.axis.XTick at 0x1ccf89c9848>,\n",
       "  <matplotlib.axis.XTick at 0x1ccf9a11e48>,\n",
       "  <matplotlib.axis.XTick at 0x1ccf9a21588>],\n",
       " <a list of 8 Text xticklabel objects>)"
      ]
     },
     "execution_count": 49,
     "metadata": {},
     "output_type": "execute_result"
    },
    {
     "data": {
      "image/png": "[encoded data removed]",
      "text/plain": [
       "<Figure size 432x288 with 1 Axes>"
      ]
     },
     "metadata": {
      "needs_background": "light"
     },
     "output_type": "display_data"
    }
   ],
   "source": [
    "xn = np.arange(8)\n",
    "fig2, ax2 = plt.subplots()\n",
    "ax2.set_ylabel('Number of people')\n",
    "plt.bar(xn, graph4, color = 'Maroon', width=0.95)\n",
    "for i in range(len(graph4)):\n",
    "    plt.text(x = i-0.2, y = graph4[i]+0.1, s = graph4[i], size = 10)\n",
    "\n",
    "plt.xticks(xn, ('Women<26 yrs', \"Men<26 yrs\", 'Women(26-43)', \"Men(26-43)\", 'Women(43-60)', \"Men(43-60)\", 'Women > 60yrs', \"Men > 60yrs\"), rotation=45)"
   ]
  },
  {
   "cell_type": "markdown",
   "metadata": {},
   "source": [
    "# Categorizing people based on their Jobs"
   ]
  },
  {
   "cell_type": "code",
   "execution_count": 28,
   "metadata": {},
   "outputs": [
    {
     "data": {
      "text/plain": [
       "Manufacturing         799\n",
       "Financial Services    774\n",
       "Health                602\n",
       "Retail                358\n",
       "Property              267\n",
       "IT                    223\n",
       "Entertainment         136\n",
       "Argiculture           113\n",
       "Telecommunications     72\n",
       "Name: job_industry, dtype: int64"
      ]
     },
     "execution_count": 28,
     "metadata": {},
     "output_type": "execute_result"
    }
   ],
   "source": [
    "d[\"job_industry\"].value_counts()"
   ]
  },
  {
   "cell_type": "code",
   "execution_count": 31,
   "metadata": {},
   "outputs": [
    {
     "data": {
      "text/plain": [
       "([<matplotlib.axis.XTick at 0x1ac3aac1c88>,\n",
       "  <matplotlib.axis.XTick at 0x1ac3b72e7c8>,\n",
       "  <matplotlib.axis.XTick at 0x1ac3b72ebc8>,\n",
       "  <matplotlib.axis.XTick at 0x1ac3c741c48>,\n",
       "  <matplotlib.axis.XTick at 0x1ac3c74a2c8>,\n",
       "  <matplotlib.axis.XTick at 0x1ac3c74aa08>,\n",
       "  <matplotlib.axis.XTick at 0x1ac3c74ab48>,\n",
       "  <matplotlib.axis.XTick at 0x1ac3c74f588>,\n",
       "  <matplotlib.axis.XTick at 0x1ac3c753248>],\n",
       " <a list of 9 Text xticklabel objects>)"
      ]
     },
     "execution_count": 31,
     "metadata": {},
     "output_type": "execute_result"
    },
    {
     "data": {
      "image/png": "[encoded data removed]",
      "text/plain": [
       "<Figure size 432x288 with 1 Axes>"
      ]
     },
     "metadata": {
      "needs_background": "light"
     },
     "output_type": "display_data"
    }
   ],
   "source": [
    "j1 = [799, 774, 602, 358, 267, 223, 136, 113, 72]\n",
    "x3 = np.arange(9)\n",
    "fig3, ax3 = plt.subplots()\n",
    "ax3.set_ylabel('Number of people')\n",
    "plt.bar(x3, j1, color='Maroon', width = 0.95)\n",
    "for i in range(len(j1)):\n",
    "    plt.text(x = i-0.25, y = j1[i]+0.1, s = j1[i], size = 11)\n",
    "\n",
    "plt.xticks(x3, (\"Manufacturing\", \"Finance\", \"Health\", \"Retail\", \"Property\", \"IT\", \"Entertainment\", \"Agriculture\", \"Telecom\"),\n",
    "           rotation=45)"
   ]
  },
  {
   "cell_type": "markdown",
   "metadata": {},
   "source": [
    "# Wealth Segment vs People"
   ]
  },
  {
   "cell_type": "code",
   "execution_count": 222,
   "metadata": {},
   "outputs": [
    {
     "data": {
      "text/plain": [
       "Mass Customer        2000\n",
       "High Net Worth       1021\n",
       "Affluent Customer     979\n",
       "Name: WS, dtype: int64"
      ]
     },
     "execution_count": 222,
     "metadata": {},
     "output_type": "execute_result"
    }
   ],
   "source": [
    "d[\"WS\"].value_counts()"
   ]
  },
  {
   "cell_type": "code",
   "execution_count": 32,
   "metadata": {},
   "outputs": [
    {
     "name": "stdout",
     "output_type": "stream",
     "text": [
      "Age Ranges: Less than 26, between 26 and 43, between 43 and 60, over 60 \n",
      "261 777 697 219\n",
      "125 399 361 111\n",
      "146 346 470 0\n"
     ]
    }
   ],
   "source": [
    "#split into 3: M (Mass), H(High), A(Affluent)\n",
    "\n",
    "wsm = {\"q1\":[], \"q2\":[], \"q3\":[], \"q4\":[]}\n",
    "wsh = {\"q1\":[], \"q2\":[], \"q3\":[], \"q4\":[]}\n",
    "wsa = {\"q1\":[], \"q2\":[], \"q3\":[], \"q4\":[]}\n",
    "ind=1\n",
    "    \n",
    " #remember fq = mean_val - stdv_val/2 ,sq = mean_val, tq = mean_val + stdv_val/2\n",
    " # 25, 42, 59\n",
    "#split into 3: M (Mass), H(High), A(Affluent)\n",
    "\n",
    "for each in d['WS']:\n",
    "    temp = int(d['Age'][ind])\n",
    "    if each[0] == \"M\" and temp != 0:\n",
    "        if(temp <= fq):\n",
    "            wsm[\"q1\"].append(temp)\n",
    "        elif(fq < temp and temp <= sq):\n",
    "            wsm[\"q2\"].append(temp)\n",
    "        elif(sq < temp and temp <= tq):\n",
    "            wsm[\"q3\"].append(temp)\n",
    "        elif(tq < temp):\n",
    "            wsm[\"q4\"].append(temp)\n",
    "    elif each[0] == \"H\" and temp != 0:\n",
    "        if(temp <= fq):\n",
    "            wsh[\"q1\"].append(temp)\n",
    "        elif(fq < temp and temp <= sq):\n",
    "            wsh[\"q2\"].append(temp)\n",
    "        elif(sq < temp and temp <= tq):\n",
    "            wsh[\"q3\"].append(temp)\n",
    "        elif(tq < temp):\n",
    "            wsh[\"q4\"].append(temp)\n",
    "    elif each[0] == \"A\" and temp != 0:\n",
    "        if(temp <= fq):\n",
    "            wsa[\"q1\"].append(temp)\n",
    "        elif(fq < temp and temp <= sq):\n",
    "            wsa[\"q2\"].append(temp)\n",
    "        elif(sq < temp and temp <= tq):\n",
    "            wsa[\"q3\"].append(temp)\n",
    "        elif(tq < temp):\n",
    "            wsa[\"q3\"].append(temp)\n",
    "    ind += 1\n",
    "print(\"Age Ranges: Less than 26, between 26 and 43, between 43 and 60, over 60 \")    \n",
    "print(len(wsm[\"q1\"]), len(wsm[\"q2\"]), len(wsm[\"q3\"]), len(wsm[\"q4\"]))\n",
    "print(len(wsh[\"q1\"]), len(wsh[\"q2\"]), len(wsh[\"q3\"]), len(wsh[\"q4\"]))\n",
    "print(len(wsa[\"q1\"]), len(wsa[\"q2\"]), len(wsa[\"q3\"]), len(wsa[\"q4\"]))"
   ]
  },
  {
   "cell_type": "code",
   "execution_count": 33,
   "metadata": {},
   "outputs": [
    {
     "data": {
      "image/png": "[encoded data removed]",
      "text/plain": [
       "<Figure size 432x288 with 1 Axes>"
      ]
     },
     "metadata": {
      "needs_background": "light"
     },
     "output_type": "display_data"
    }
   ],
   "source": [
    "N = 4\n",
    "wsmtp = [len(wsm[\"q1\"]), len(wsm[\"q2\"]), len(wsm[\"q3\"]), len(wsm[\"q4\"])]\n",
    "wshtp = [len(wsh[\"q1\"]), len(wsh[\"q2\"]), len(wsh[\"q3\"]), len(wsh[\"q4\"])]\n",
    "wsatp = [len(wsa[\"q1\"]), len(wsa[\"q2\"]), len(wsa[\"q3\"]), len(wsa[\"q4\"])]\n",
    "\n",
    "bars = np.add(wsmtp, wshtp).tolist()\n",
    "r = [0,1,2,3,4]\n",
    "\n",
    "ind   = np.arange(N) # the x locations for the groups\n",
    "width = 0.95       # the width of the bars: can also be len(x) sequence\n",
    "\n",
    "p1 = plt.bar(ind, wsmtp, width, color='Maroon')\n",
    "p2 = plt.bar(ind, wshtp, width,  bottom=wsmtp, color='Blue')\n",
    "p3 = plt.bar(ind, wsatp, width,  bottom=bars, color='Green')\n",
    "\n",
    "plt.ylabel('Amount of people')\n",
    "plt.title('Wealth Segements by Age')\n",
    "plt.xticks(ind, ('Under 26', 'Between 26 and 43','Between 43 and 60', 'Above 60'), rotation=45)\n",
    "plt.yticks(np.arange(0, 1500, 100))\n",
    "plt.legend((p1[0], p2[0], p3[0]), ('Mass', 'High Net', 'Affluent'))\n",
    "\n",
    "plt.show()"
   ]
  },
  {
   "cell_type": "code",
   "execution_count": 34,
   "metadata": {},
   "outputs": [
    {
     "data": {
      "text/plain": [
       "Yes    2024\n",
       "No     1976\n",
       "Name: owns_car, dtype: int64"
      ]
     },
     "execution_count": 34,
     "metadata": {},
     "output_type": "execute_result"
    }
   ],
   "source": [
    "d[\"owns_car\"].value_counts()"
   ]
  },
  {
   "cell_type": "code",
   "execution_count": null,
   "metadata": {},
   "outputs": [],
   "source": []
  }
 ],
 "metadata": {
  "kernelspec": {
   "display_name": "Python 3",
   "language": "python",
   "name": "python3"
  },
  "language_info": {
   "codemirror_mode": {
    "name": "ipython",
    "version": 3
   },
   "file_extension": ".py",
   "mimetype": "text/x-python",
   "name": "python",
   "nbconvert_exporter": "python",
   "pygments_lexer": "ipython3",
   "version": "3.7.6"
  }
 },
 "nbformat": 4,
 "nbformat_minor": 4
}
